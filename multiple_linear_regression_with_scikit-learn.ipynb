{
 "cells": [
  {
   "cell_type": "code",
   "execution_count": 150,
   "metadata": {
    "collapsed": true,
    "pycharm": {
     "name": "#%%\n"
    }
   },
   "outputs": [],
   "source": [
    "import pandas as pd\n",
    "import numpy as np\n",
    "from scipy import stats\n",
    "from matplotlib import pyplot as plt\n",
    "import statsmodels.formula.api as smf\n",
    "\n",
    "#In this notebook I want to learn to implement a multiple linear regression model using scikit-learn\n",
    "#Yₑ = α + β₁X₁ + β₂X₂ + … + βₚXₚ\n",
    "# p = number of predictors"
   ]
  },
  {
   "cell_type": "code",
   "execution_count": 151,
   "outputs": [
    {
     "data": {
      "text/plain": "Name           object\nDate            int64\nRate           object\nVotes          object\nGenre          object\nDuration       object\nType           object\nCertificate    object\nEpisodes       object\nNudity         object\nViolence       object\nProfanity      object\nAlcohol        object\nFrightening    object\ndtype: object"
     },
     "execution_count": 151,
     "metadata": {},
     "output_type": "execute_result"
    }
   ],
   "source": [
    "#read dataset\n",
    "\n",
    "df = pd.read_csv('imdb.csv')\n",
    "df.dtypes"
   ],
   "metadata": {
    "collapsed": false,
    "pycharm": {
     "name": "#%%\n"
    }
   }
  },
  {
   "cell_type": "code",
   "execution_count": 152,
   "outputs": [
    {
     "data": {
      "text/plain": "                          Name  Date     Rate     Votes  \\\n0               No Time to Die  2021      7.6   107,163   \n1                   The Guilty  2021      6.3    64,375   \n2    The Many Saints of Newark  2021      6.4    27,145   \n3  Venom: Let There Be Carnage  2021      6.4    30,443   \n4                         Dune  2021      8.3    84,636   \n5                    Ted Lasso  2021      8.8   117,562   \n6                     Free Guy  2021      7.3   153,835   \n7          House of the Dragon  2021  No Rate  No Votes   \n8                  What If...?  2021      7.6    51,959   \n9                Sex Education  2021      8.3   220,201   \n\n                          Genre Duration    Type Certificate Episodes  \\\n0   Action, Adventure, Thriller     163     Film       PG-13        -   \n1        Crime, Drama, Thriller      90     Film           R        -   \n2                  Crime, Drama     120     Film           R        -   \n3     Action, Adventure, Sci-Fi      97     Film       PG-13        -   \n4      Action, Adventure, Drama     155     Film       PG-13        -   \n5          Comedy, Drama, Sport      30   Series       TV-MA       23   \n6     Action, Adventure, Comedy     115     Film       PG-13        -   \n7      Action, Adventure, Drama     None  Series        None       10   \n8  Animation, Action, Adventure     None  Series       TV-14       18   \n9                 Comedy, Drama      45   Series       TV-MA       25   \n\n     Nudity  Violence Profanity   Alcohol Frightening  \n0      Mild  Moderate      Mild      Mild    Moderate  \n1      None      None    Severe      None    Moderate  \n2  Moderate    Severe    Severe  Moderate    Moderate  \n3      None  Moderate  Moderate      Mild    Moderate  \n4      None  Moderate      None      Mild    Moderate  \n5      Mild      None    Severe      Mild        None  \n6      Mild  Moderate  Moderate      None        Mild  \n7   No Rate   No Rate   No Rate   No Rate     No Rate  \n8      None  Moderate      Mild      Mild    Moderate  \n9    Severe      Mild    Severe  Moderate        Mild  ",
      "text/html": "<div>\n<style scoped>\n    .dataframe tbody tr th:only-of-type {\n        vertical-align: middle;\n    }\n\n    .dataframe tbody tr th {\n        vertical-align: top;\n    }\n\n    .dataframe thead th {\n        text-align: right;\n    }\n</style>\n<table border=\"1\" class=\"dataframe\">\n  <thead>\n    <tr style=\"text-align: right;\">\n      <th></th>\n      <th>Name</th>\n      <th>Date</th>\n      <th>Rate</th>\n      <th>Votes</th>\n      <th>Genre</th>\n      <th>Duration</th>\n      <th>Type</th>\n      <th>Certificate</th>\n      <th>Episodes</th>\n      <th>Nudity</th>\n      <th>Violence</th>\n      <th>Profanity</th>\n      <th>Alcohol</th>\n      <th>Frightening</th>\n    </tr>\n  </thead>\n  <tbody>\n    <tr>\n      <th>0</th>\n      <td>No Time to Die</td>\n      <td>2021</td>\n      <td>7.6</td>\n      <td>107,163</td>\n      <td>Action, Adventure, Thriller</td>\n      <td>163</td>\n      <td>Film</td>\n      <td>PG-13</td>\n      <td>-</td>\n      <td>Mild</td>\n      <td>Moderate</td>\n      <td>Mild</td>\n      <td>Mild</td>\n      <td>Moderate</td>\n    </tr>\n    <tr>\n      <th>1</th>\n      <td>The Guilty</td>\n      <td>2021</td>\n      <td>6.3</td>\n      <td>64,375</td>\n      <td>Crime, Drama, Thriller</td>\n      <td>90</td>\n      <td>Film</td>\n      <td>R</td>\n      <td>-</td>\n      <td>None</td>\n      <td>None</td>\n      <td>Severe</td>\n      <td>None</td>\n      <td>Moderate</td>\n    </tr>\n    <tr>\n      <th>2</th>\n      <td>The Many Saints of Newark</td>\n      <td>2021</td>\n      <td>6.4</td>\n      <td>27,145</td>\n      <td>Crime, Drama</td>\n      <td>120</td>\n      <td>Film</td>\n      <td>R</td>\n      <td>-</td>\n      <td>Moderate</td>\n      <td>Severe</td>\n      <td>Severe</td>\n      <td>Moderate</td>\n      <td>Moderate</td>\n    </tr>\n    <tr>\n      <th>3</th>\n      <td>Venom: Let There Be Carnage</td>\n      <td>2021</td>\n      <td>6.4</td>\n      <td>30,443</td>\n      <td>Action, Adventure, Sci-Fi</td>\n      <td>97</td>\n      <td>Film</td>\n      <td>PG-13</td>\n      <td>-</td>\n      <td>None</td>\n      <td>Moderate</td>\n      <td>Moderate</td>\n      <td>Mild</td>\n      <td>Moderate</td>\n    </tr>\n    <tr>\n      <th>4</th>\n      <td>Dune</td>\n      <td>2021</td>\n      <td>8.3</td>\n      <td>84,636</td>\n      <td>Action, Adventure, Drama</td>\n      <td>155</td>\n      <td>Film</td>\n      <td>PG-13</td>\n      <td>-</td>\n      <td>None</td>\n      <td>Moderate</td>\n      <td>None</td>\n      <td>Mild</td>\n      <td>Moderate</td>\n    </tr>\n    <tr>\n      <th>5</th>\n      <td>Ted Lasso</td>\n      <td>2021</td>\n      <td>8.8</td>\n      <td>117,562</td>\n      <td>Comedy, Drama, Sport</td>\n      <td>30</td>\n      <td>Series</td>\n      <td>TV-MA</td>\n      <td>23</td>\n      <td>Mild</td>\n      <td>None</td>\n      <td>Severe</td>\n      <td>Mild</td>\n      <td>None</td>\n    </tr>\n    <tr>\n      <th>6</th>\n      <td>Free Guy</td>\n      <td>2021</td>\n      <td>7.3</td>\n      <td>153,835</td>\n      <td>Action, Adventure, Comedy</td>\n      <td>115</td>\n      <td>Film</td>\n      <td>PG-13</td>\n      <td>-</td>\n      <td>Mild</td>\n      <td>Moderate</td>\n      <td>Moderate</td>\n      <td>None</td>\n      <td>Mild</td>\n    </tr>\n    <tr>\n      <th>7</th>\n      <td>House of the Dragon</td>\n      <td>2021</td>\n      <td>No Rate</td>\n      <td>No Votes</td>\n      <td>Action, Adventure, Drama</td>\n      <td>None</td>\n      <td>Series</td>\n      <td>None</td>\n      <td>10</td>\n      <td>No Rate</td>\n      <td>No Rate</td>\n      <td>No Rate</td>\n      <td>No Rate</td>\n      <td>No Rate</td>\n    </tr>\n    <tr>\n      <th>8</th>\n      <td>What If...?</td>\n      <td>2021</td>\n      <td>7.6</td>\n      <td>51,959</td>\n      <td>Animation, Action, Adventure</td>\n      <td>None</td>\n      <td>Series</td>\n      <td>TV-14</td>\n      <td>18</td>\n      <td>None</td>\n      <td>Moderate</td>\n      <td>Mild</td>\n      <td>Mild</td>\n      <td>Moderate</td>\n    </tr>\n    <tr>\n      <th>9</th>\n      <td>Sex Education</td>\n      <td>2021</td>\n      <td>8.3</td>\n      <td>220,201</td>\n      <td>Comedy, Drama</td>\n      <td>45</td>\n      <td>Series</td>\n      <td>TV-MA</td>\n      <td>25</td>\n      <td>Severe</td>\n      <td>Mild</td>\n      <td>Severe</td>\n      <td>Moderate</td>\n      <td>Mild</td>\n    </tr>\n  </tbody>\n</table>\n</div>"
     },
     "execution_count": 152,
     "metadata": {},
     "output_type": "execute_result"
    }
   ],
   "source": [
    "df.head(10)"
   ],
   "metadata": {
    "collapsed": false,
    "pycharm": {
     "name": "#%%\n"
    }
   }
  },
  {
   "cell_type": "code",
   "execution_count": 153,
   "outputs": [
    {
     "data": {
      "text/plain": "                          Name  Date Rate     Votes  \\\n0               No Time to Die  2021  7.6  107163.0   \n1                   The Guilty  2021  6.3   64375.0   \n2    The Many Saints of Newark  2021  6.4   27145.0   \n3  Venom: Let There Be Carnage  2021  6.4   30443.0   \n4                         Dune  2021  8.3   84636.0   \n5                    Ted Lasso  2021  8.8  117562.0   \n6                     Free Guy  2021  7.3  153835.0   \n7          House of the Dragon  2021  NaN       NaN   \n8                  What If...?  2021  7.6   51959.0   \n9                Sex Education  2021  8.3  220201.0   \n\n                          Genre  Duration    Type Certificate Episodes  \\\n0   Action, Adventure, Thriller     163.0    Film       PG-13        -   \n1        Crime, Drama, Thriller      90.0    Film           R        -   \n2                  Crime, Drama     120.0    Film           R        -   \n3     Action, Adventure, Sci-Fi      97.0    Film       PG-13        -   \n4      Action, Adventure, Drama     155.0    Film       PG-13        -   \n5          Comedy, Drama, Sport      30.0  Series       TV-MA       23   \n6     Action, Adventure, Comedy     115.0    Film       PG-13        -   \n7      Action, Adventure, Drama       NaN  Series         NaN       10   \n8  Animation, Action, Adventure       NaN  Series       TV-14       18   \n9                 Comedy, Drama      45.0  Series       TV-MA       25   \n\n     Nudity  Violence Profanity   Alcohol Frightening  \n0      Mild  Moderate      Mild      Mild    Moderate  \n1       NaN       NaN    Severe       NaN    Moderate  \n2  Moderate    Severe    Severe  Moderate    Moderate  \n3       NaN  Moderate  Moderate      Mild    Moderate  \n4       NaN  Moderate       NaN      Mild    Moderate  \n5      Mild       NaN    Severe      Mild         NaN  \n6      Mild  Moderate  Moderate       NaN        Mild  \n7       NaN       NaN       NaN       NaN         NaN  \n8       NaN  Moderate      Mild      Mild    Moderate  \n9    Severe      Mild    Severe  Moderate        Mild  ",
      "text/html": "<div>\n<style scoped>\n    .dataframe tbody tr th:only-of-type {\n        vertical-align: middle;\n    }\n\n    .dataframe tbody tr th {\n        vertical-align: top;\n    }\n\n    .dataframe thead th {\n        text-align: right;\n    }\n</style>\n<table border=\"1\" class=\"dataframe\">\n  <thead>\n    <tr style=\"text-align: right;\">\n      <th></th>\n      <th>Name</th>\n      <th>Date</th>\n      <th>Rate</th>\n      <th>Votes</th>\n      <th>Genre</th>\n      <th>Duration</th>\n      <th>Type</th>\n      <th>Certificate</th>\n      <th>Episodes</th>\n      <th>Nudity</th>\n      <th>Violence</th>\n      <th>Profanity</th>\n      <th>Alcohol</th>\n      <th>Frightening</th>\n    </tr>\n  </thead>\n  <tbody>\n    <tr>\n      <th>0</th>\n      <td>No Time to Die</td>\n      <td>2021</td>\n      <td>7.6</td>\n      <td>107163.0</td>\n      <td>Action, Adventure, Thriller</td>\n      <td>163.0</td>\n      <td>Film</td>\n      <td>PG-13</td>\n      <td>-</td>\n      <td>Mild</td>\n      <td>Moderate</td>\n      <td>Mild</td>\n      <td>Mild</td>\n      <td>Moderate</td>\n    </tr>\n    <tr>\n      <th>1</th>\n      <td>The Guilty</td>\n      <td>2021</td>\n      <td>6.3</td>\n      <td>64375.0</td>\n      <td>Crime, Drama, Thriller</td>\n      <td>90.0</td>\n      <td>Film</td>\n      <td>R</td>\n      <td>-</td>\n      <td>NaN</td>\n      <td>NaN</td>\n      <td>Severe</td>\n      <td>NaN</td>\n      <td>Moderate</td>\n    </tr>\n    <tr>\n      <th>2</th>\n      <td>The Many Saints of Newark</td>\n      <td>2021</td>\n      <td>6.4</td>\n      <td>27145.0</td>\n      <td>Crime, Drama</td>\n      <td>120.0</td>\n      <td>Film</td>\n      <td>R</td>\n      <td>-</td>\n      <td>Moderate</td>\n      <td>Severe</td>\n      <td>Severe</td>\n      <td>Moderate</td>\n      <td>Moderate</td>\n    </tr>\n    <tr>\n      <th>3</th>\n      <td>Venom: Let There Be Carnage</td>\n      <td>2021</td>\n      <td>6.4</td>\n      <td>30443.0</td>\n      <td>Action, Adventure, Sci-Fi</td>\n      <td>97.0</td>\n      <td>Film</td>\n      <td>PG-13</td>\n      <td>-</td>\n      <td>NaN</td>\n      <td>Moderate</td>\n      <td>Moderate</td>\n      <td>Mild</td>\n      <td>Moderate</td>\n    </tr>\n    <tr>\n      <th>4</th>\n      <td>Dune</td>\n      <td>2021</td>\n      <td>8.3</td>\n      <td>84636.0</td>\n      <td>Action, Adventure, Drama</td>\n      <td>155.0</td>\n      <td>Film</td>\n      <td>PG-13</td>\n      <td>-</td>\n      <td>NaN</td>\n      <td>Moderate</td>\n      <td>NaN</td>\n      <td>Mild</td>\n      <td>Moderate</td>\n    </tr>\n    <tr>\n      <th>5</th>\n      <td>Ted Lasso</td>\n      <td>2021</td>\n      <td>8.8</td>\n      <td>117562.0</td>\n      <td>Comedy, Drama, Sport</td>\n      <td>30.0</td>\n      <td>Series</td>\n      <td>TV-MA</td>\n      <td>23</td>\n      <td>Mild</td>\n      <td>NaN</td>\n      <td>Severe</td>\n      <td>Mild</td>\n      <td>NaN</td>\n    </tr>\n    <tr>\n      <th>6</th>\n      <td>Free Guy</td>\n      <td>2021</td>\n      <td>7.3</td>\n      <td>153835.0</td>\n      <td>Action, Adventure, Comedy</td>\n      <td>115.0</td>\n      <td>Film</td>\n      <td>PG-13</td>\n      <td>-</td>\n      <td>Mild</td>\n      <td>Moderate</td>\n      <td>Moderate</td>\n      <td>NaN</td>\n      <td>Mild</td>\n    </tr>\n    <tr>\n      <th>7</th>\n      <td>House of the Dragon</td>\n      <td>2021</td>\n      <td>NaN</td>\n      <td>NaN</td>\n      <td>Action, Adventure, Drama</td>\n      <td>NaN</td>\n      <td>Series</td>\n      <td>NaN</td>\n      <td>10</td>\n      <td>NaN</td>\n      <td>NaN</td>\n      <td>NaN</td>\n      <td>NaN</td>\n      <td>NaN</td>\n    </tr>\n    <tr>\n      <th>8</th>\n      <td>What If...?</td>\n      <td>2021</td>\n      <td>7.6</td>\n      <td>51959.0</td>\n      <td>Animation, Action, Adventure</td>\n      <td>NaN</td>\n      <td>Series</td>\n      <td>TV-14</td>\n      <td>18</td>\n      <td>NaN</td>\n      <td>Moderate</td>\n      <td>Mild</td>\n      <td>Mild</td>\n      <td>Moderate</td>\n    </tr>\n    <tr>\n      <th>9</th>\n      <td>Sex Education</td>\n      <td>2021</td>\n      <td>8.3</td>\n      <td>220201.0</td>\n      <td>Comedy, Drama</td>\n      <td>45.0</td>\n      <td>Series</td>\n      <td>TV-MA</td>\n      <td>25</td>\n      <td>Severe</td>\n      <td>Mild</td>\n      <td>Severe</td>\n      <td>Moderate</td>\n      <td>Mild</td>\n    </tr>\n  </tbody>\n</table>\n</div>"
     },
     "execution_count": 153,
     "metadata": {},
     "output_type": "execute_result"
    }
   ],
   "source": [
    "#123456790 = NaN\n",
    "df = df.replace('No Rate', np.nan)\n",
    "df = df.replace('No Votes', np.nan)\n",
    "df = df.replace('None', np.nan)\n",
    "\n",
    "df['Duration'] = df['Duration'].astype(str).astype(float)\n",
    "df['Votes'] = df['Votes'].str.replace(',','')\n",
    "df['Votes'] = df['Votes'].astype(str).astype(float)\n",
    "\n",
    "df.head(10)"
   ],
   "metadata": {
    "collapsed": false,
    "pycharm": {
     "name": "#%%\n"
    }
   }
  },
  {
   "cell_type": "code",
   "execution_count": 154,
   "outputs": [
    {
     "name": "stdout",
     "output_type": "stream",
     "text": [
      "duration_mean = 95\n",
      "votes_mean = 122364\n"
     ]
    }
   ],
   "source": [
    "dumean = df['Duration'].mean()\n",
    "vomean = df['Votes'].mean()\n",
    "\n",
    "print('duration_mean = ' +str(round(dumean)))\n",
    "print('votes_mean = ' +str(round(vomean)))"
   ],
   "metadata": {
    "collapsed": false,
    "pycharm": {
     "name": "#%%\n"
    }
   }
  },
  {
   "cell_type": "code",
   "execution_count": 155,
   "outputs": [
    {
     "data": {
      "text/plain": "                          Name  Date Rate     Votes  \\\n0               No Time to Die  2021  7.6  107163.0   \n1                   The Guilty  2021  6.3   64375.0   \n2    The Many Saints of Newark  2021  6.4   27145.0   \n3  Venom: Let There Be Carnage  2021  6.4   30443.0   \n4                         Dune  2021  8.3   84636.0   \n5                    Ted Lasso  2021  8.8  117562.0   \n6                     Free Guy  2021  7.3  153835.0   \n7          House of the Dragon  2021  NaN  122364.0   \n8                  What If...?  2021  7.6   51959.0   \n9                Sex Education  2021  8.3  220201.0   \n\n                          Genre  Duration    Type Certificate Episodes  \\\n0   Action, Adventure, Thriller     163.0    Film       PG-13        -   \n1        Crime, Drama, Thriller      90.0    Film           R        -   \n2                  Crime, Drama     120.0    Film           R        -   \n3     Action, Adventure, Sci-Fi      97.0    Film       PG-13        -   \n4      Action, Adventure, Drama     155.0    Film       PG-13        -   \n5          Comedy, Drama, Sport      30.0  Series       TV-MA       23   \n6     Action, Adventure, Comedy     115.0    Film       PG-13        -   \n7      Action, Adventure, Drama      95.0  Series         NaN       10   \n8  Animation, Action, Adventure      95.0  Series       TV-14       18   \n9                 Comedy, Drama      45.0  Series       TV-MA       25   \n\n     Nudity  Violence Profanity   Alcohol Frightening  \n0      Mild  Moderate      Mild      Mild    Moderate  \n1       NaN       NaN    Severe       NaN    Moderate  \n2  Moderate    Severe    Severe  Moderate    Moderate  \n3       NaN  Moderate  Moderate      Mild    Moderate  \n4       NaN  Moderate       NaN      Mild    Moderate  \n5      Mild       NaN    Severe      Mild         NaN  \n6      Mild  Moderate  Moderate       NaN        Mild  \n7       NaN       NaN       NaN       NaN         NaN  \n8       NaN  Moderate      Mild      Mild    Moderate  \n9    Severe      Mild    Severe  Moderate        Mild  ",
      "text/html": "<div>\n<style scoped>\n    .dataframe tbody tr th:only-of-type {\n        vertical-align: middle;\n    }\n\n    .dataframe tbody tr th {\n        vertical-align: top;\n    }\n\n    .dataframe thead th {\n        text-align: right;\n    }\n</style>\n<table border=\"1\" class=\"dataframe\">\n  <thead>\n    <tr style=\"text-align: right;\">\n      <th></th>\n      <th>Name</th>\n      <th>Date</th>\n      <th>Rate</th>\n      <th>Votes</th>\n      <th>Genre</th>\n      <th>Duration</th>\n      <th>Type</th>\n      <th>Certificate</th>\n      <th>Episodes</th>\n      <th>Nudity</th>\n      <th>Violence</th>\n      <th>Profanity</th>\n      <th>Alcohol</th>\n      <th>Frightening</th>\n    </tr>\n  </thead>\n  <tbody>\n    <tr>\n      <th>0</th>\n      <td>No Time to Die</td>\n      <td>2021</td>\n      <td>7.6</td>\n      <td>107163.0</td>\n      <td>Action, Adventure, Thriller</td>\n      <td>163.0</td>\n      <td>Film</td>\n      <td>PG-13</td>\n      <td>-</td>\n      <td>Mild</td>\n      <td>Moderate</td>\n      <td>Mild</td>\n      <td>Mild</td>\n      <td>Moderate</td>\n    </tr>\n    <tr>\n      <th>1</th>\n      <td>The Guilty</td>\n      <td>2021</td>\n      <td>6.3</td>\n      <td>64375.0</td>\n      <td>Crime, Drama, Thriller</td>\n      <td>90.0</td>\n      <td>Film</td>\n      <td>R</td>\n      <td>-</td>\n      <td>NaN</td>\n      <td>NaN</td>\n      <td>Severe</td>\n      <td>NaN</td>\n      <td>Moderate</td>\n    </tr>\n    <tr>\n      <th>2</th>\n      <td>The Many Saints of Newark</td>\n      <td>2021</td>\n      <td>6.4</td>\n      <td>27145.0</td>\n      <td>Crime, Drama</td>\n      <td>120.0</td>\n      <td>Film</td>\n      <td>R</td>\n      <td>-</td>\n      <td>Moderate</td>\n      <td>Severe</td>\n      <td>Severe</td>\n      <td>Moderate</td>\n      <td>Moderate</td>\n    </tr>\n    <tr>\n      <th>3</th>\n      <td>Venom: Let There Be Carnage</td>\n      <td>2021</td>\n      <td>6.4</td>\n      <td>30443.0</td>\n      <td>Action, Adventure, Sci-Fi</td>\n      <td>97.0</td>\n      <td>Film</td>\n      <td>PG-13</td>\n      <td>-</td>\n      <td>NaN</td>\n      <td>Moderate</td>\n      <td>Moderate</td>\n      <td>Mild</td>\n      <td>Moderate</td>\n    </tr>\n    <tr>\n      <th>4</th>\n      <td>Dune</td>\n      <td>2021</td>\n      <td>8.3</td>\n      <td>84636.0</td>\n      <td>Action, Adventure, Drama</td>\n      <td>155.0</td>\n      <td>Film</td>\n      <td>PG-13</td>\n      <td>-</td>\n      <td>NaN</td>\n      <td>Moderate</td>\n      <td>NaN</td>\n      <td>Mild</td>\n      <td>Moderate</td>\n    </tr>\n    <tr>\n      <th>5</th>\n      <td>Ted Lasso</td>\n      <td>2021</td>\n      <td>8.8</td>\n      <td>117562.0</td>\n      <td>Comedy, Drama, Sport</td>\n      <td>30.0</td>\n      <td>Series</td>\n      <td>TV-MA</td>\n      <td>23</td>\n      <td>Mild</td>\n      <td>NaN</td>\n      <td>Severe</td>\n      <td>Mild</td>\n      <td>NaN</td>\n    </tr>\n    <tr>\n      <th>6</th>\n      <td>Free Guy</td>\n      <td>2021</td>\n      <td>7.3</td>\n      <td>153835.0</td>\n      <td>Action, Adventure, Comedy</td>\n      <td>115.0</td>\n      <td>Film</td>\n      <td>PG-13</td>\n      <td>-</td>\n      <td>Mild</td>\n      <td>Moderate</td>\n      <td>Moderate</td>\n      <td>NaN</td>\n      <td>Mild</td>\n    </tr>\n    <tr>\n      <th>7</th>\n      <td>House of the Dragon</td>\n      <td>2021</td>\n      <td>NaN</td>\n      <td>122364.0</td>\n      <td>Action, Adventure, Drama</td>\n      <td>95.0</td>\n      <td>Series</td>\n      <td>NaN</td>\n      <td>10</td>\n      <td>NaN</td>\n      <td>NaN</td>\n      <td>NaN</td>\n      <td>NaN</td>\n      <td>NaN</td>\n    </tr>\n    <tr>\n      <th>8</th>\n      <td>What If...?</td>\n      <td>2021</td>\n      <td>7.6</td>\n      <td>51959.0</td>\n      <td>Animation, Action, Adventure</td>\n      <td>95.0</td>\n      <td>Series</td>\n      <td>TV-14</td>\n      <td>18</td>\n      <td>NaN</td>\n      <td>Moderate</td>\n      <td>Mild</td>\n      <td>Mild</td>\n      <td>Moderate</td>\n    </tr>\n    <tr>\n      <th>9</th>\n      <td>Sex Education</td>\n      <td>2021</td>\n      <td>8.3</td>\n      <td>220201.0</td>\n      <td>Comedy, Drama</td>\n      <td>45.0</td>\n      <td>Series</td>\n      <td>TV-MA</td>\n      <td>25</td>\n      <td>Severe</td>\n      <td>Mild</td>\n      <td>Severe</td>\n      <td>Moderate</td>\n      <td>Mild</td>\n    </tr>\n  </tbody>\n</table>\n</div>"
     },
     "execution_count": 155,
     "metadata": {},
     "output_type": "execute_result"
    }
   ],
   "source": [
    "df['Duration'] = round(df['Duration'].replace(np.nan,dumean))\n",
    "df['Votes'] = round(df['Votes'].replace(np.nan,vomean))\n",
    "df.head(10)"
   ],
   "metadata": {
    "collapsed": false,
    "pycharm": {
     "name": "#%%\n"
    }
   }
  },
  {
   "cell_type": "code",
   "execution_count": 156,
   "outputs": [],
   "source": [
    "model = smf.ols('Votes ~ Duration',data=df)\n",
    "model = model.fit()"
   ],
   "metadata": {
    "collapsed": false,
    "pycharm": {
     "name": "#%%\n"
    }
   }
  },
  {
   "cell_type": "code",
   "execution_count": 157,
   "outputs": [
    {
     "data": {
      "text/plain": "Intercept     828.249308\nDuration     1284.761443\ndtype: float64"
     },
     "execution_count": 157,
     "metadata": {},
     "output_type": "execute_result"
    }
   ],
   "source": [
    "model.params"
   ],
   "metadata": {
    "collapsed": false,
    "pycharm": {
     "name": "#%%\n"
    }
   }
  },
  {
   "cell_type": "code",
   "execution_count": 158,
   "outputs": [
    {
     "data": {
      "text/plain": "<Figure size 864x432 with 1 Axes>",
      "image/png": "[encoded data removed]"
     },
     "metadata": {
      "needs_background": "light"
     },
     "output_type": "display_data"
    }
   ],
   "source": [
    "#intercept -> cuando eje abcisas es = 0 (x=0).\n",
    "#duration en este caso es el slope; pendent (m).\n",
    "#per tant, l'equació és : y = 828.249308 + 1284.761443*Duration\n",
    "\n",
    "votes_pred = model.predict()\n",
    "plt.figure(figsize=(12, 6))\n",
    "plt.plot(df['Duration'], df['Votes'], 'o')           # scatter plot showing actual data\n",
    "plt.plot(df['Duration'], votes_pred, 'r', linewidth=2)   # regression line\n",
    "plt.xlabel('Duration of film')\n",
    "plt.ylabel('Votes')\n",
    "plt.title('Duration vs Votes')\n",
    "\n",
    "plt.show()"
   ],
   "metadata": {
    "collapsed": false,
    "pycharm": {
     "name": "#%%\n"
    }
   }
  },
  {
   "cell_type": "code",
   "execution_count": null,
   "outputs": [],
   "source": [
    "#lol"
   ],
   "metadata": {
    "collapsed": false,
    "pycharm": {
     "name": "#%%\n"
    }
   }
  }
 ],
 "metadata": {
  "kernelspec": {
   "display_name": "Python 3",
   "language": "python",
   "name": "python3"
  },
  "language_info": {
   "codemirror_mode": {
    "name": "ipython",
    "version": 2
   },
   "file_extension": ".py",
   "mimetype": "text/x-python",
   "name": "python",
   "nbconvert_exporter": "python",
   "pygments_lexer": "ipython2",
   "version": "2.7.6"
  }
 },
 "nbformat": 4,
 "nbformat_minor": 0
}