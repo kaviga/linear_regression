{
 "cells": [
  {
   "cell_type": "code",
   "execution_count": 2,
   "outputs": [],
   "source": [
    "import pandas as pd\n",
    "import numpy as np\n",
    "from matplotlib import pyplot as plt"
   ],
   "metadata": {
    "collapsed": false,
    "pycharm": {
     "name": "#%%\n"
    }
   }
  },
  {
   "cell_type": "code",
   "execution_count": 15,
   "outputs": [],
   "source": [
    "#Ordinar Least squares method (OLS) --> find values of alpha and beta that minimise the sum of the squared difference between Y and Ye. Beta = Cov(X,Y) / Var (X). Estimating coefficients of linear regression equations which describe the relationship between one or more independent quantitative variables and a dependent variable.\n",
    "\n",
    "#xm & ym son las medias\n",
    "#Cov(X,Y) = divide(Sumatorio hasta n (xi - xm)(yi-ym) , n )\n",
    "#Var(X) = (x1 - xm)+(x2 - xm)...(xn - xm)\n",
    "\n",
    "#    If COV(xi, xj) = 0 then variables are uncorrelated\n",
    "#    If COV(xi, xj) > 0 then variables positively correlated\n",
    "#    If COV(xi, xj) > < 0 then variables negatively correlated\n",
    "\n",
    "#numpy.cov() function"
   ],
   "metadata": {
    "collapsed": false,
    "pycharm": {
     "name": "#%%\n"
    }
   }
  },
  {
   "cell_type": "code",
   "execution_count": 44,
   "outputs": [],
   "source": [
    "#Generate random data\n",
    "np.random.seed(0)\n",
    "X= 2.5*np.random.randn(100)+ 1.5  # Array of 100 values with mean = 1.5, Desv =2,5. Quantitat de dispersió versus la mitjana (Desv, SD o StDev)\n",
    "Residual = 0.5 * np.random.randn(100) #100 residual terms\n",
    "y = 2 + 0.3 * X + Residual"
   ],
   "metadata": {
    "collapsed": false,
    "pycharm": {
     "name": "#%%\n"
    }
   }
  },
  {
   "cell_type": "code",
   "execution_count": 45,
   "outputs": [
    {
     "data": {
      "text/plain": "          X         y  xycov  xvar\n0  5.910131  4.714615      0     0\n1  2.500393  2.076238      0     0\n2  3.946845  2.548811      0     0\n3  7.102233  4.615368      0     0\n4  6.168895  3.264107      0     0",
      "text/html": "<div>\n<style scoped>\n    .dataframe tbody tr th:only-of-type {\n        vertical-align: middle;\n    }\n\n    .dataframe tbody tr th {\n        vertical-align: top;\n    }\n\n    .dataframe thead th {\n        text-align: right;\n    }\n</style>\n<table border=\"1\" class=\"dataframe\">\n  <thead>\n    <tr style=\"text-align: right;\">\n      <th></th>\n      <th>X</th>\n      <th>y</th>\n      <th>xycov</th>\n      <th>xvar</th>\n    </tr>\n  </thead>\n  <tbody>\n    <tr>\n      <th>0</th>\n      <td>5.910131</td>\n      <td>4.714615</td>\n      <td>0</td>\n      <td>0</td>\n    </tr>\n    <tr>\n      <th>1</th>\n      <td>2.500393</td>\n      <td>2.076238</td>\n      <td>0</td>\n      <td>0</td>\n    </tr>\n    <tr>\n      <th>2</th>\n      <td>3.946845</td>\n      <td>2.548811</td>\n      <td>0</td>\n      <td>0</td>\n    </tr>\n    <tr>\n      <th>3</th>\n      <td>7.102233</td>\n      <td>4.615368</td>\n      <td>0</td>\n      <td>0</td>\n    </tr>\n    <tr>\n      <th>4</th>\n      <td>6.168895</td>\n      <td>3.264107</td>\n      <td>0</td>\n      <td>0</td>\n    </tr>\n  </tbody>\n</table>\n</div>"
     },
     "execution_count": 45,
     "metadata": {},
     "output_type": "execute_result"
    }
   ],
   "source": [
    "#Store our X and Y values and show first values, as well as create columns for cov and var.\n",
    "\n",
    "df = pd.DataFrame(\n",
    "    {'X': X,\n",
    "     'y': y})\n",
    "\n",
    "df['xycov'] = 0\n",
    "df['xvar'] = 0\n",
    "\n",
    "df.head()"
   ],
   "metadata": {
    "collapsed": false,
    "pycharm": {
     "name": "#%%\n"
    }
   }
  },
  {
   "cell_type": "code",
   "execution_count": 46,
   "outputs": [
    {
     "name": "stdout",
     "output_type": "stream",
     "text": [
      "xmean = 1.6495200388362121\n",
      "ymean = 2.5358624970247825\n"
     ]
    }
   ],
   "source": [
    "# calculate and print x and y means\n",
    "xmean = np.mean(X)\n",
    "ymean = np.mean(y)\n",
    "\n",
    "print('xmean = ' + str(xmean) )\n",
    "print('ymean = ' + str(ymean) )"
   ],
   "metadata": {
    "collapsed": false,
    "pycharm": {
     "name": "#%%\n"
    }
   }
  },
  {
   "cell_type": "code",
   "execution_count": 47,
   "outputs": [
    {
     "data": {
      "text/plain": "          X         y      xycov       xvar    xstdev\n0  5.910131  4.714615   9.282815  18.152805  4.260611\n1  2.500393  2.076238  -0.391082   0.723985  0.850873\n2  3.946845  2.548811   0.029747   5.277702  2.297325\n3  7.102233  4.615368  11.338948  29.732079  5.452713\n4  6.168895  3.264107   3.291209  20.424750  4.519375",
      "text/html": "<div>\n<style scoped>\n    .dataframe tbody tr th:only-of-type {\n        vertical-align: middle;\n    }\n\n    .dataframe tbody tr th {\n        vertical-align: top;\n    }\n\n    .dataframe thead th {\n        text-align: right;\n    }\n</style>\n<table border=\"1\" class=\"dataframe\">\n  <thead>\n    <tr style=\"text-align: right;\">\n      <th></th>\n      <th>X</th>\n      <th>y</th>\n      <th>xycov</th>\n      <th>xvar</th>\n      <th>xstdev</th>\n    </tr>\n  </thead>\n  <tbody>\n    <tr>\n      <th>0</th>\n      <td>5.910131</td>\n      <td>4.714615</td>\n      <td>9.282815</td>\n      <td>18.152805</td>\n      <td>4.260611</td>\n    </tr>\n    <tr>\n      <th>1</th>\n      <td>2.500393</td>\n      <td>2.076238</td>\n      <td>-0.391082</td>\n      <td>0.723985</td>\n      <td>0.850873</td>\n    </tr>\n    <tr>\n      <th>2</th>\n      <td>3.946845</td>\n      <td>2.548811</td>\n      <td>0.029747</td>\n      <td>5.277702</td>\n      <td>2.297325</td>\n    </tr>\n    <tr>\n      <th>3</th>\n      <td>7.102233</td>\n      <td>4.615368</td>\n      <td>11.338948</td>\n      <td>29.732079</td>\n      <td>5.452713</td>\n    </tr>\n    <tr>\n      <th>4</th>\n      <td>6.168895</td>\n      <td>3.264107</td>\n      <td>3.291209</td>\n      <td>20.424750</td>\n      <td>4.519375</td>\n    </tr>\n  </tbody>\n</table>\n</div>"
     },
     "execution_count": 47,
     "metadata": {},
     "output_type": "execute_result"
    }
   ],
   "source": [
    "#calculate terms needed for the numerator and denominator of beta. Will calculate in two ways.\n",
    "#first one\n",
    "df['xycov'] = (df['X']-xmean) * (df['y']-ymean)\n",
    "df['xstdev'] = (df['X']-xmean) #varianza es la stdev**2\n",
    "df['xvar'] = df['xstdev']**2\n",
    "\n",
    "df.head()"
   ],
   "metadata": {
    "collapsed": false,
    "pycharm": {
     "name": "#%%\n"
    }
   }
  },
  {
   "cell_type": "code",
   "execution_count": 53,
   "outputs": [
    {
     "name": "stdout",
     "output_type": "stream",
     "text": [
      "beta = 0.3229396867092763\n",
      "alpha = 2.0031670124623426\n"
     ]
    }
   ],
   "source": [
    "#Beta = Cov(X,Y) / Var (X)\n",
    "# Ye = ALPHA + BETA * X\n",
    "# ALPHA = ym - BETA * xm\n",
    "count_row = df.shape[0]\n",
    "covsum = df['xycov'].sum()\n",
    "cov = covsum\n",
    "xv = df['xvar'].sum()\n",
    "\n",
    "beta = cov / xv\n",
    "alpha = ymean - (beta*xmean)\n",
    "print('beta = ' + str(beta))\n",
    "print('alpha = ' + str(alpha))"
   ],
   "metadata": {
    "collapsed": false,
    "pycharm": {
     "name": "#%%\n"
    }
   }
  },
  {
   "cell_type": "code",
   "execution_count": 54,
   "outputs": [
    {
     "name": "stdout",
     "output_type": "stream",
     "text": [
      "[3.91178282 2.81064315 3.27775989 4.29675991 3.99534802 1.69857201\n",
      " 3.25462968 2.36537842 2.40424288 2.81907292 2.60387001 3.66168312\n",
      " 3.10199975 2.58581077 2.84592918 2.75696825 3.69382011 2.32194218\n",
      " 2.74033151 1.79802302 0.42642221 3.015275   3.18547843 1.88839019\n",
      " 4.32006116 1.31339555 2.52451965 2.33645381 3.72506464 3.67386219\n",
      " 2.61267323 2.79288576 1.77082341 0.88838207 2.20668994 2.61380476\n",
      " 3.48085076 3.45831697 2.17486854 2.24351265 1.64102813 1.34112617\n",
      " 1.11002064 4.06253353 2.07610925 2.1338976  1.47613319 3.11528277\n",
      " 1.18459738 2.31582084 1.76462232 2.79994197 2.07517841 1.53439407\n",
      " 2.46482364 2.83338994 2.54127917 2.73177699 1.9754571  2.19471775\n",
      " 1.94466613 2.19729158 1.83108353 1.09386364 2.6308214  2.16319902\n",
      " 1.17143718 2.86120343 1.75506992 2.52951462 3.07620724 2.59171079\n",
      " 3.40747079 1.49064088 2.81240675 1.93469565 1.78453915 2.02024272\n",
      " 2.23604485 2.53292159 1.54689373 3.2148581  2.86352875 1.24729141\n",
      " 3.68911579 4.01822118 3.43926331 2.34231437 1.62310525 3.33888732\n",
      " 2.16207195 3.47451661 2.65572718 3.2760653  2.77528867 3.05802784\n",
      " 2.49605373 3.92939769 2.59003892 2.81212234]\n"
     ]
    }
   ],
   "source": [
    "#we have a model, lets predict\n",
    "ypred =alpha + beta*X\n",
    "print(ypred)"
   ],
   "metadata": {
    "collapsed": false,
    "pycharm": {
     "name": "#%%\n"
    }
   }
  },
  {
   "cell_type": "code",
   "execution_count": 55,
   "outputs": [
    {
     "data": {
      "text/plain": "<Figure size 864x432 with 1 Axes>",
      "image/png": "[encoded data removed]"
     },
     "metadata": {
      "needs_background": "light"
     },
     "output_type": "display_data"
    }
   ],
   "source": [
    "plt.figure(figsize=(12,6))\n",
    "plt.plot(X, ypred)  #regression line\n",
    "plt.plot(X,y,'ro')\n",
    "plt.title('Actual vs predicted')\n",
    "plt.xlabel('X')\n",
    "plt.ylabel('y')\n",
    "\n",
    "plt.show()"
   ],
   "metadata": {
    "collapsed": false,
    "pycharm": {
     "name": "#%%\n"
    }
   }
  },
  {
   "cell_type": "code",
   "execution_count": 52,
   "outputs": [],
   "source": [],
   "metadata": {
    "collapsed": false,
    "pycharm": {
     "name": "#%%\n"
    }
   }
  },
  {
   "cell_type": "code",
   "execution_count": 36,
   "outputs": [],
   "source": [],
   "metadata": {
    "collapsed": false,
    "pycharm": {
     "name": "#%%\n"
    }
   }
  },
  {
   "cell_type": "code",
   "execution_count": 36,
   "outputs": [],
   "source": [],
   "metadata": {
    "collapsed": false,
    "pycharm": {
     "name": "#%%\n"
    }
   }
  },
  {
   "cell_type": "code",
   "execution_count": 36,
   "outputs": [],
   "source": [],
   "metadata": {
    "collapsed": false,
    "pycharm": {
     "name": "#%%\n"
    }
   }
  },
  {
   "cell_type": "code",
   "execution_count": 36,
   "outputs": [],
   "source": [],
   "metadata": {
    "collapsed": false,
    "pycharm": {
     "name": "#%%\n"
    }
   }
  },
  {
   "cell_type": "code",
   "execution_count": 36,
   "outputs": [],
   "source": [],
   "metadata": {
    "collapsed": false,
    "pycharm": {
     "name": "#%%\n"
    }
   }
  },
  {
   "cell_type": "code",
   "execution_count": 36,
   "outputs": [],
   "source": [],
   "metadata": {
    "collapsed": false,
    "pycharm": {
     "name": "#%%\n"
    }
   }
  },
  {
   "cell_type": "code",
   "execution_count": 36,
   "outputs": [],
   "source": [],
   "metadata": {
    "collapsed": false,
    "pycharm": {
     "name": "#%%\n"
    }
   }
  },
  {
   "cell_type": "code",
   "execution_count": null,
   "outputs": [],
   "source": [],
   "metadata": {
    "collapsed": false,
    "pycharm": {
     "name": "#%%\n"
    }
   }
  }
 ],
 "metadata": {
  "kernelspec": {
   "display_name": "Python 3",
   "language": "python",
   "name": "python3"
  },
  "language_info": {
   "codemirror_mode": {
    "name": "ipython",
    "version": 2
   },
   "file_extension": ".py",
   "mimetype": "text/x-python",
   "name": "python",
   "nbconvert_exporter": "python",
   "pygments_lexer": "ipython2",
   "version": "2.7.6"
  }
 },
 "nbformat": 4,
 "nbformat_minor": 0
}