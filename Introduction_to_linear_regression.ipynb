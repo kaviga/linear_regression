{
 "cells": [
  {
   "cell_type": "code",
   "execution_count": 2,
   "outputs": [],
   "source": [
    "import pandas as pd\n",
    "import numpy as np\n",
    "from matplotlib import pyplot as plt"
   ],
   "metadata": {
    "collapsed": false,
    "pycharm": {
     "name": "#%%\n"
    }
   }
  },
  {
   "cell_type": "code",
   "execution_count": 15,
   "outputs": [],
   "source": [
    "#Least squares method --> find values of alpha and beta that minimise the sum of the squared difference between Y and Ye. Beta = Cov(X,Y) / Var (X)\n",
    "#xm & ym son las medias\n",
    "#Cov(X,Y) = divide(Sumatorio hasta n (xi - xm)(yi-ym) , n )\n",
    "#Var(X) = (x1 - xm)+(x2 - xm)...(xn - xm)\n",
    "\n",
    "#    If COV(xi, xj) = 0 then variables are uncorrelated\n",
    "#    If COV(xi, xj) > 0 then variables positively correlated\n",
    "#    If COV(xi, xj) > < 0 then variables negatively correlated\n",
    "\n",
    "#numpy.cov() function"
   ],
   "metadata": {
    "collapsed": false,
    "pycharm": {
     "name": "#%%\n"
    }
   }
  },
  {
   "cell_type": "code",
   "execution_count": 16,
   "outputs": [],
   "source": [
    "#Generate random data\n",
    "np.random.seed(0)\n",
    "X= 2.5*np.random.randn(100)+ 1.5  # Array of 100 values with mean = 1.5, Desv =2,5. Quantitat de dispersió versus la mitjana (Desv, SD o StDev)\n",
    "Residual = 0.5 * np.random.randn(100) #100 residual terms\n",
    "y = 2 + 0.3 * X + Residual"
   ],
   "metadata": {
    "collapsed": false,
    "pycharm": {
     "name": "#%%\n"
    }
   }
  },
  {
   "cell_type": "code",
   "execution_count": 29,
   "outputs": [
    {
     "data": {
      "text/plain": "          X         y  xycov  xvar\n0  5.910131  4.714615      0     0\n1  2.500393  2.076238      0     0\n2  3.946845  2.548811      0     0\n3  7.102233  4.615368      0     0\n4  6.168895  3.264107      0     0",
      "text/html": "<div>\n<style scoped>\n    .dataframe tbody tr th:only-of-type {\n        vertical-align: middle;\n    }\n\n    .dataframe tbody tr th {\n        vertical-align: top;\n    }\n\n    .dataframe thead th {\n        text-align: right;\n    }\n</style>\n<table border=\"1\" class=\"dataframe\">\n  <thead>\n    <tr style=\"text-align: right;\">\n      <th></th>\n      <th>X</th>\n      <th>y</th>\n      <th>xycov</th>\n      <th>xvar</th>\n    </tr>\n  </thead>\n  <tbody>\n    <tr>\n      <th>0</th>\n      <td>5.910131</td>\n      <td>4.714615</td>\n      <td>0</td>\n      <td>0</td>\n    </tr>\n    <tr>\n      <th>1</th>\n      <td>2.500393</td>\n      <td>2.076238</td>\n      <td>0</td>\n      <td>0</td>\n    </tr>\n    <tr>\n      <th>2</th>\n      <td>3.946845</td>\n      <td>2.548811</td>\n      <td>0</td>\n      <td>0</td>\n    </tr>\n    <tr>\n      <th>3</th>\n      <td>7.102233</td>\n      <td>4.615368</td>\n      <td>0</td>\n      <td>0</td>\n    </tr>\n    <tr>\n      <th>4</th>\n      <td>6.168895</td>\n      <td>3.264107</td>\n      <td>0</td>\n      <td>0</td>\n    </tr>\n  </tbody>\n</table>\n</div>"
     },
     "execution_count": 29,
     "metadata": {},
     "output_type": "execute_result"
    }
   ],
   "source": [
    "#Store our X and Y values and show first values, as well as create columns for cov and var.\n",
    "\n",
    "df = pd.DataFrame(\n",
    "    {'X': X,\n",
    "     'y': y})\n",
    "\n",
    "df['xycov'] = 0\n",
    "df['xvar'] = 0\n",
    "\n",
    "df.head()"
   ],
   "metadata": {
    "collapsed": false,
    "pycharm": {
     "name": "#%%\n"
    }
   }
  },
  {
   "cell_type": "code",
   "execution_count": 32,
   "outputs": [
    {
     "name": "stdout",
     "output_type": "stream",
     "text": [
      "xmean = 1.6495200388362121\n",
      "ymean = 2.5358624970247825\n"
     ]
    }
   ],
   "source": [
    "# calculate and print x and y means\n",
    "xmean = np.mean(X)\n",
    "ymean = np.mean(y)\n",
    "\n",
    "print('xmean = ' + str(xmean) )\n",
    "print('ymean = ' + str(ymean) )"
   ],
   "metadata": {
    "collapsed": false,
    "pycharm": {
     "name": "#%%\n"
    }
   }
  },
  {
   "cell_type": "code",
   "execution_count": null,
   "outputs": [],
   "source": [
    "#calculate terms needed for the numator and denominator of beta"
   ],
   "metadata": {
    "collapsed": false,
    "pycharm": {
     "name": "#%%\n"
    }
   }
  }
 ],
 "metadata": {
  "kernelspec": {
   "display_name": "Python 3",
   "language": "python",
   "name": "python3"
  },
  "language_info": {
   "codemirror_mode": {
    "name": "ipython",
    "version": 2
   },
   "file_extension": ".py",
   "mimetype": "text/x-python",
   "name": "python",
   "nbconvert_exporter": "python",
   "pygments_lexer": "ipython2",
   "version": "2.7.6"
  }
 },
 "nbformat": 4,
 "nbformat_minor": 0
}